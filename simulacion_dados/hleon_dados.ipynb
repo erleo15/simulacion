{
 "cells": [
  {
   "cell_type": "markdown",
   "metadata": {},
   "source": [
    "# Generar dos numeros pseudoaleatorios (los dados) deben utilizar dos librerias distintas(1-6), sumar estos numeros y generar una tabla de resultados. Generar con 100,1000 y 10000 eventos de lazamiento y generar las concluciones\n",
    "\n",
    "Para el caso de 100 lanzamientos\n",
    "\n",
    "\n",
    "    \n",
    "\n",
    "\n",
    "\n"
   ]
  },
  {
   "cell_type": "code",
   "execution_count": 2,
   "metadata": {},
   "outputs": [
    {
     "name": "stdout",
     "output_type": "stream",
     "text": [
      "SUMA      FRECUENCIA      PROBABILIDAD\n",
      "2           2                 0.02\n",
      "3           5                 0.05\n",
      "4           12                 0.12\n",
      "5           14                 0.14\n",
      "6           17                 0.17\n",
      "7           15                 0.15\n",
      "8           19                 0.19\n",
      "9           7                 0.07\n",
      "10           3                 0.03\n",
      "11           5                 0.05\n",
      "12           1                 0.01\n"
     ]
    }
   ],
   "source": [
    "import numpy as np,random \n",
    "n = 100  \n",
    "sumas = range(2,13)\n",
    "frecuencias = np.zeros(11,dtype = int) \n",
    "for i in range(n): \n",
    "    suma =  np.random.randint(1,7) + random.randint(1,6)\n",
    "    frecuencias[suma - 2]+=1\n",
    "print(\"SUMA      FRECUENCIA      PROBABILIDAD\")\n",
    "for i in range(len(sumas)):\n",
    "    print(str(sumas[i])+\"           \"+str(frecuencias[i])+\"                 \"+str(frecuencias[i]/n))\n"
   ]
  },
  {
   "cell_type": "markdown",
   "metadata": {},
   "source": []
  },
  {
   "cell_type": "markdown",
   "metadata": {},
   "source": [
    "Para el caso de los 1000 lanzamientos"
   ]
  },
  {
   "cell_type": "code",
   "execution_count": 4,
   "metadata": {},
   "outputs": [
    {
     "name": "stdout",
     "output_type": "stream",
     "text": [
      "SUMA      FRECUENCIA      PROBABILIDAD\n",
      "2           34                 0.034\n",
      "3           57                 0.057\n",
      "4           89                 0.089\n",
      "5           96                 0.096\n",
      "6           116                 0.116\n",
      "7           160                 0.16\n",
      "8           145                 0.145\n",
      "9           131                 0.131\n",
      "10           78                 0.078\n",
      "11           59                 0.059\n",
      "12           35                 0.035\n"
     ]
    }
   ],
   "source": [
    "import numpy as np,random \n",
    "n = 1000 \n",
    "sumas = range(2,13)\n",
    "frecuencias = np.zeros(11,dtype = int) \n",
    "for i in range(n): \n",
    "    suma =  np.random.randint(1,7) + random.randint(1,6)\n",
    "    frecuencias[suma - 2]+=1\n",
    "print(\"SUMA      FRECUENCIA      PROBABILIDAD\")\n",
    "for i in range(len(sumas)):\n",
    "    print(str(sumas[i])+\"           \"+str(frecuencias[i])+\"                 \"+str(frecuencias[i]/n))\n"
   ]
  },
  {
   "cell_type": "markdown",
   "metadata": {},
   "source": [
    "Para el caso de los 10000 lanzamientos"
   ]
  },
  {
   "cell_type": "code",
   "execution_count": 3,
   "metadata": {},
   "outputs": [
    {
     "name": "stdout",
     "output_type": "stream",
     "text": [
      "SUMA      FRECUENCIA      PROBABILIDAD\n",
      "2           38                 0.038\n",
      "3           45                 0.045\n",
      "4           84                 0.084\n",
      "5           107                 0.107\n",
      "6           134                 0.134\n",
      "7           163                 0.163\n",
      "8           152                 0.152\n",
      "9           91                 0.091\n",
      "10           82                 0.082\n",
      "11           64                 0.064\n",
      "12           40                 0.04\n"
     ]
    }
   ],
   "source": [
    "import numpy as np,random \n",
    "n = 1000  \n",
    "sumas = range(2,13)\n",
    "frecuencias = np.zeros(11,dtype = int) \n",
    "for i in range(n): \n",
    "    suma =  np.random.randint(1,7) + random.randint(1,6)\n",
    "    frecuencias[suma - 2]+=1\n",
    "print(\"SUMA      FRECUENCIA      PROBABILIDAD\")\n",
    "for i in range(len(sumas)):\n",
    "    print(str(sumas[i])+\"           \"+str(frecuencias[i])+\"                 \"+str(frecuencias[i]/n))\n"
   ]
  },
  {
   "cell_type": "markdown",
   "metadata": {},
   "source": [
    "Conclusiones:\n",
    "> Se pudo observar que la tasa de probabilidad para cada suma es favorable para la suma 7.\n",
    "> las sumas, 5,6,8,9 en su mayoria son mayores a 0.1, por debajo de la probabilidad para la suma 7."
   ]
  },
  {
   "cell_type": "code",
   "execution_count": 5,
   "metadata": {},
   "outputs": [
    {
     "name": "stdout",
     "output_type": "stream",
     "text": [
      ":)\n"
     ]
    }
   ],
   "source": [
    "print(\"AUTOR: HERNAN LEON LOJA\")"
   ]
  },
  {
   "cell_type": "code",
   "execution_count": null,
   "metadata": {},
   "outputs": [],
   "source": []
  }
 ],
 "metadata": {
  "kernelspec": {
   "display_name": "Python 3",
   "language": "python",
   "name": "python3"
  },
  "language_info": {
   "codemirror_mode": {
    "name": "ipython",
    "version": 3
   },
   "file_extension": ".py",
   "mimetype": "text/x-python",
   "name": "python",
   "nbconvert_exporter": "python",
   "pygments_lexer": "ipython3",
   "version": "3.8.2"
  }
 },
 "nbformat": 4,
 "nbformat_minor": 4
}
