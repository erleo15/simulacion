{
 "cells": [
  {
   "cell_type": "markdown",
   "metadata": {},
   "source": [
    "# Crear un  ejemplo para utilizar UiPath en automagica"
   ]
  },
  {
   "cell_type": "markdown",
   "metadata": {},
   "source": [
    "Automagica es una plataforma de Automatización de Procesos Robóticos Inteligentes (SRPA) para automatizar completamente las tareas tediosas y manuales con software.\n",
    "\n",
    "UiPath es una herramienta de RPA (Robotic Process Automation) que se utiliza para automatizaciones de escritorio en Windows. Esta herramienta tiene por objetivo automatizar tareas repetitivas y así eliminar la intervención del ser humano. \n",
    "\n",
    "UiPath aporta valor a todos los sectores de actividad ya que elimina el trabajo manual que no tiene valor añadido y aumenta la productividad del usuario a gran velocidad. Las empresas pueden automatizar sus procesos y escalar rápidamente a un gran número de los mismos, sin necesidad de recursos adicionales, siendo UiPath una solución óptima para compañías que no quieren invertir en infraestructura o hardware inicial y no cuentan con recursos dedicados para mantener una infraestructura de automatización.\n",
    "\n",
    "Los robots de software interpretan, desencadenan respuestas y se comunican con otros sistemas para realizar tareas repetitivas, por ejemplo: asignación de facturas, registro de pedidos y el procesamiento de datos."
   ]
  },
  {
   "cell_type": "markdown",
   "metadata": {},
   "source": [
    "### Diseño del robot"
   ]
  },
  {
   "cell_type": "markdown",
   "metadata": {},
   "source": [
    "1. Diseñamos el robot en UiPath Studio"
   ]
  },
  {
   "cell_type": "markdown",
   "metadata": {},
   "source": [
    "<img src= \"images/2.jpg\">"
   ]
  },
  {
   "cell_type": "markdown",
   "metadata": {},
   "source": [
    "2. Generamos el archivo .xaml para poder usarlo en python"
   ]
  },
  {
   "cell_type": "markdown",
   "metadata": {},
   "source": [
    "<img src=\"images/1.jpg\">"
   ]
  },
  {
   "cell_type": "markdown",
   "metadata": {},
   "source": [
    "El robot en cuestion leera un archivo en formato csv, contara sus filas y columnas para posteriormente guardar ese resultado en un archivo de texto."
   ]
  },
  {
   "cell_type": "code",
   "execution_count": 4,
   "metadata": {},
   "outputs": [
    {
     "name": "stdout",
     "output_type": "stream",
     "text": [
      "iniciando robot\n",
      "Completed UiPath process \"Main.xaml\"\n",
      "Este archivo contiene: 4 columnas y 4 filas\n",
      "finaliza robot\n"
     ]
    }
   ],
   "source": [
    "from automagica import *\n",
    "\n",
    "\n",
    "print(\"iniciando robot\")\n",
    "\n",
    "execute_uipath_process(r'Main.xaml')\n",
    "archivo = open(\"resultado.txt\")\n",
    "with archivo:\n",
    "    print(archivo.read())\n",
    "\n",
    "print(\"finaliza robot\")\n"
   ]
  },
  {
   "cell_type": "markdown",
   "metadata": {},
   "source": [
    "Como podemos apreciar el metodo usado es execute_uipath_process(r'Main.xaml') el cual nos permite ejecutar un proceso diseñado con UiPath Studio segun la bibliografia [1]"
   ]
  },
  {
   "cell_type": "markdown",
   "metadata": {},
   "source": [
    "## Conclusiones \n",
    "\n",
    "> La herramienta UiPath es muy util para ejecutar procesos automatizados. El uso de esta herramienta dentro de automagixa le da un potencial extra a dicho software RPA.\n",
    "\n",
    "> Automagica es un software RPA muy eficiente al momento de tratarse de automatizar procesos, ya que esto nos puede ayudar a realizar de manera mas rapida las tareas que tengamos pendiente.\n",
    "\n",
    "\n",
    "## Recomendaciones\n",
    "\n",
    "> Trabajar sobre un sistema Windows debido a que el soporte es mejor en este sistema operativo.\n",
    "\n",
    "> Tener mucho cuidado con el path del UiRobot(UIPath Studio) debido a que Automagica lo coloca por defecto al momento de instalarse pero debemos de colocar la ruta correcta para que se ejecute directamente desde python."
   ]
  },
  {
   "cell_type": "markdown",
   "metadata": {},
   "source": [
    "## Bibliografia\n",
    "[1] https://automagica.readthedocs.io/activities.html#automagica.activities.execute_uipath_process\n",
    "\n",
    "[2] https://forum.uipath.com/t/uirobot-exe-path-in-community-edition/128313"
   ]
  }
 ],
 "metadata": {
  "kernelspec": {
   "display_name": "Python 3",
   "language": "python",
   "name": "python3"
  },
  "language_info": {
   "codemirror_mode": {
    "name": "ipython",
    "version": 3
   },
   "file_extension": ".py",
   "mimetype": "text/x-python",
   "name": "python",
   "nbconvert_exporter": "python",
   "pygments_lexer": "ipython3",
   "version": "3.7.5"
  }
 },
 "nbformat": 4,
 "nbformat_minor": 4
}
